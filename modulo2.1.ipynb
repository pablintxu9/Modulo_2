{
 "cells": [
  {
   "cell_type": "code",
   "execution_count": 1,
   "id": "dc8c8a74",
   "metadata": {},
   "outputs": [
    {
     "name": "stdout",
     "output_type": "stream",
     "text": [
      "la nota media es 5.8\n"
     ]
    }
   ],
   "source": [
    "nota_1=9\n",
    "nota_2=3\n",
    "nota_3=4\n",
    "nota_4=7\n",
    "nota_5=6\n",
    "media=(nota_1+nota_2+nota_3+nota_4+nota_5)/5\n",
    "print(\"la nota media es\" , media)"
   ]
  },
  {
   "cell_type": "code",
   "execution_count": 5,
   "id": "1e807ba6",
   "metadata": {},
   "outputs": [
    {
     "data": {
      "text/plain": [
       "447.12"
      ]
     },
     "execution_count": 5,
     "metadata": {},
     "output_type": "execute_result"
    }
   ],
   "source": [
    "import math\n",
    "round((365/12)*14.7,2)\n",
    "\n"
   ]
  }
 ],
 "metadata": {
  "kernelspec": {
   "display_name": "base",
   "language": "python",
   "name": "python3"
  },
  "language_info": {
   "codemirror_mode": {
    "name": "ipython",
    "version": 3
   },
   "file_extension": ".py",
   "mimetype": "text/x-python",
   "name": "python",
   "nbconvert_exporter": "python",
   "pygments_lexer": "ipython3",
   "version": "3.13.5"
  }
 },
 "nbformat": 4,
 "nbformat_minor": 5
}
